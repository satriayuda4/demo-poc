{
 "cells": [
  {
   "cell_type": "code",
   "execution_count": 101,
   "id": "92a2415a",
   "metadata": {},
   "outputs": [
    {
     "name": "stdout",
     "output_type": "stream",
     "text": [
      "10051005 A common MSH2 mutation in English and North American HNPCC families: origin, phenotypic expression, and sex specific differences in colorectal cancer . The frequency , origin , and phenotypic expression of a germline MSH2 gene mutation previously identified in seven kindreds with hereditary non-polyposis cancer syndrome (HNPCC) was investigated . The mutation ( A-- > T at nt943 + 3 ) disrupts the 3 splice site of exon 5 leading to the deletion of this exon from MSH2 mRNA and represents the only frequent MSH2 mutation so far reported . Although this mutation was initially detected in four of 33 colorectal cancer families analysed from eastern England , more extensive analysis has reduced the frequency to four of 52 ( 8 % ) English HNPCC kindreds analysed . In contrast , the MSH2 mutation was identified in 10 of 20 ( 50 % ) separately identified colorectal families from Newfoundland . To investigate the origin of this mutation in colorectal cancer families from England ( n = 4 ) , Newfoundland ( n = 10 ) , and the United States ( n = 3 ) , haplotype analysis using microsatellite markers linked to MSH2 was performed . Within the English and US families there was little evidence for a recent common origin of the MSH2 splice site mutation in most families . In contrast , a common haplotype was identified at the two flanking markers ( CA5 and D2S288 ) in eight of the Newfoundland families . These findings suggested a founder effect within Newfoundland similar to that reported by others for two MLH1 mutations in Finnish HNPCC families . We calculated age related risks of all , colorectal , endometrial , and ovarian cancers in nt943 + 3 A-- > T MSH2 mutation carriers ( n = 76 ) for all patients and for men and women separately . For both sexes combined , the penetrances at age 60 years for all cancers  and for colorectal cancer were 0 . 86 and 0 . 57 , respectively . The risk of colorectal cancer was significantly higher  in males than females ( 0 . 63 v 0 . 30 and 0 . 84 v 0 . 44 at ages 50 and 60 years , respectively ) . For females there was a high risk of endometrial cancer ( 0 . 5 at age 60 years ) and premenopausal ovarian cancer ( 0 . 2 at 50 years ) . These intersex differences in colorectal cancer risks have implications for screening programmes and for attempts to identify colorectal cancer susceptibility modifiers . \n"
     ]
    }
   ],
   "source": [
    "f = open(\"text.txt\", \"r\")\n",
    "text = f.read() \n",
    "print(text)"
   ]
  },
  {
   "cell_type": "code",
   "execution_count": 102,
   "id": "70b8eda0",
   "metadata": {},
   "outputs": [
    {
     "data": {
      "text/plain": [
       "'text = text.strip(\\'\\n\\')\\ntext = text.strip(\\'\\t\\')\\ntext = text.replace(\\'\\n\\',\" \")\\ntext = text.replace(\\'\\\\n\\',\" \")\\ntext = text.replace(\\'\\t\\',\" \")\\ntext = text.replace(\\'\\\\t\\',\" \")\\ntext = text.replace(\\'  \\',\" \")\\ntext'"
      ]
     },
     "execution_count": 102,
     "metadata": {},
     "output_type": "execute_result"
    }
   ],
   "source": [
    "\"\"\"text = text.strip('\\n')\n",
    "text = text.strip('\\t')\n",
    "text = text.replace('\\n',\" \")\n",
    "text = text.replace('\\\\n',\" \")\n",
    "text = text.replace('\\t',\" \")\n",
    "text = text.replace('\\\\t',\" \")\n",
    "text = text.replace('  ',\" \")\n",
    "text\"\"\""
   ]
  },
  {
   "cell_type": "code",
   "execution_count": 100,
   "id": "08820e49",
   "metadata": {},
   "outputs": [
    {
     "data": {
      "text/plain": [
       "'10051005 A common MSH2 mutation in English and North American HNPCC families: origin, phenotypic expression, and sex specific differences in colorectal cancer . The frequency , origin , and phenotypic expression of a germline MSH2 gene mutation previously identified in seven kindreds with hereditary non-polyposis cancer syndrome (HNPCC) was investigated . The mutation ( A-- > T at nt943 + 3 ) disrupts the 3 splice site of exon 5 leading to the deletion of this exon from MSH2 mRNA and represents the only frequent MSH2 mutation so far reported . Although this mutation was initially detected in four of 33 colorectal cancer families analysed from eastern England , more extensive analysis has reduced the frequency to four of 52 ( 8 % ) English HNPCC kindreds analysed . In contrast , the MSH2 mutation was identified in 10 of 20 ( 50 % ) separately identified colorectal families from Newfoundland . To investigate the origin of this mutation in colorectal cancer families from England ( n = 4 ) , Newfoundland ( n = 10 ) , and the United States ( n = 3 ) , haplotype analysis using microsatellite markers linked to MSH2 was performed . Within the English and US families there was little evidence for a recent common origin of the MSH2 splice site mutation in most families . In contrast , a common haplotype was identified at the two flanking markers ( CA5 and D2S288 ) in eight of the Newfoundland families . These findings suggested a founder effect within Newfoundland similar to that reported by others for two MLH1 mutations in Finnish HNPCC families . We calculated age related risks of all , colorectal , endometrial , and ovarian cancers in nt943 + 3 A-- > T MSH2 mutation carriers ( n = 76 ) for all patients and for men and women separately . For both sexes combined , the penetrances at age 60 years for all cancers  and for colorectal cancer were 0 . 86 and 0 . 57 , respectively . The risk of colorectal cancer was significantly higher  in males than females ( 0 . 63 v 0 . 30 and 0 . 84 v 0 . 44 at ages 50 and 60 years , respectively ) . For females there was a high risk of endometrial cancer ( 0 . 5 at age 60 years ) and premenopausal ovarian cancer ( 0 . 2 at 50 years ) . These intersex differences in colorectal cancer risks have implications for screening programmes and for attempts to identify colorectal cancer susceptibility modifiers . '"
      ]
     },
     "execution_count": 100,
     "metadata": {},
     "output_type": "execute_result"
    }
   ],
   "source": [
    "#text = text.strip()\n",
    "text"
   ]
  },
  {
   "cell_type": "code",
   "execution_count": 95,
   "id": "1f393d40",
   "metadata": {},
   "outputs": [
    {
     "data": {
      "text/plain": [
       "'HNPCC'"
      ]
     },
     "execution_count": 95,
     "metadata": {},
     "output_type": "execute_result"
    }
   ],
   "source": [
    "text[332:337]"
   ]
  },
  {
   "cell_type": "code",
   "execution_count": 96,
   "id": "0c7c35d4",
   "metadata": {},
   "outputs": [],
   "source": [
    "f.close()"
   ]
  },
  {
   "cell_type": "code",
   "execution_count": 97,
   "id": "cf6cfe26",
   "metadata": {},
   "outputs": [
    {
     "name": "stdout",
     "output_type": "stream",
     "text": [
      "input start 1\n",
      "input end 1\n",
      "The text is \n"
     ]
    }
   ],
   "source": [
    "start = int(input(\"input start \"))\n",
    "end = int(input(\"input end \"))\n",
    "print(\"The text is\",text[start:end])"
   ]
  },
  {
   "cell_type": "code",
   "execution_count": 104,
   "id": "0588850a",
   "metadata": {},
   "outputs": [
    {
     "name": "stdout",
     "output_type": "stream",
     "text": [
      "input start 1826\n",
      "input end 1833\n",
      "The text is: cancers\n",
      "Satisfied? (y/n)y\n",
      "input start 1843\n",
      "input end 1860\n",
      "The text is: colorectal cancer\n",
      "Satisfied? (y/n)y\n",
      "input start 1913\n",
      "input end 1930\n",
      "The text is: colorectal cancer\n",
      "Satisfied? (y/n)2111\n",
      "input start 2129\n",
      "input end 2111\n",
      "The text is: \n",
      "Satisfied? (y/n)n\n",
      "input start 2111\n",
      "input end 2129\n",
      "The text is: ncer ( 0 . 5 at ag\n",
      "Satisfied? (y/n)n\n",
      "input start 2160\n",
      "input end 2188\n",
      "The text is: ovarian cancer ( 0 . 2 at 50\n",
      "Satisfied? (y/n)n\n"
     ]
    },
    {
     "ename": "KeyboardInterrupt",
     "evalue": "Interrupted by user",
     "output_type": "error",
     "traceback": [
      "\u001b[1;31m---------------------------------------------------------------------------\u001b[0m",
      "\u001b[1;31mKeyboardInterrupt\u001b[0m                         Traceback (most recent call last)",
      "\u001b[1;32m<ipython-input-104-6d29ed409847>\u001b[0m in \u001b[0;36m<module>\u001b[1;34m\u001b[0m\n\u001b[0;32m      3\u001b[0m \u001b[0mend_\u001b[0m \u001b[1;33m=\u001b[0m \u001b[1;33m[\u001b[0m\u001b[1;33m]\u001b[0m\u001b[1;33m\u001b[0m\u001b[1;33m\u001b[0m\u001b[0m\n\u001b[0;32m      4\u001b[0m \u001b[1;32mwhile\u001b[0m \u001b[1;33m(\u001b[0m\u001b[0mcondition\u001b[0m\u001b[1;33m)\u001b[0m\u001b[1;33m:\u001b[0m\u001b[1;33m\u001b[0m\u001b[1;33m\u001b[0m\u001b[0m\n\u001b[1;32m----> 5\u001b[1;33m     \u001b[0mstart\u001b[0m \u001b[1;33m=\u001b[0m \u001b[0mint\u001b[0m\u001b[1;33m(\u001b[0m\u001b[0minput\u001b[0m\u001b[1;33m(\u001b[0m\u001b[1;34m\"input start \"\u001b[0m\u001b[1;33m)\u001b[0m\u001b[1;33m)\u001b[0m\u001b[1;33m\u001b[0m\u001b[1;33m\u001b[0m\u001b[0m\n\u001b[0m\u001b[0;32m      6\u001b[0m     \u001b[0mend\u001b[0m \u001b[1;33m=\u001b[0m \u001b[0mint\u001b[0m\u001b[1;33m(\u001b[0m\u001b[0minput\u001b[0m\u001b[1;33m(\u001b[0m\u001b[1;34m\"input end \"\u001b[0m\u001b[1;33m)\u001b[0m\u001b[1;33m)\u001b[0m\u001b[1;33m\u001b[0m\u001b[1;33m\u001b[0m\u001b[0m\n\u001b[0;32m      7\u001b[0m     \u001b[0mprint\u001b[0m\u001b[1;33m(\u001b[0m\u001b[1;34m\"The text is:\"\u001b[0m\u001b[1;33m,\u001b[0m\u001b[0mtext\u001b[0m\u001b[1;33m[\u001b[0m\u001b[0mstart\u001b[0m\u001b[1;33m:\u001b[0m\u001b[0mend\u001b[0m\u001b[1;33m]\u001b[0m\u001b[1;33m)\u001b[0m\u001b[1;33m\u001b[0m\u001b[1;33m\u001b[0m\u001b[0m\n",
      "\u001b[1;32m~\\.conda\\envs\\ImageProcessing\\lib\\site-packages\\ipykernel\\kernelbase.py\u001b[0m in \u001b[0;36mraw_input\u001b[1;34m(self, prompt)\u001b[0m\n\u001b[0;32m    858\u001b[0m                 \u001b[1;34m\"raw_input was called, but this frontend does not support input requests.\"\u001b[0m\u001b[1;33m\u001b[0m\u001b[1;33m\u001b[0m\u001b[0m\n\u001b[0;32m    859\u001b[0m             )\n\u001b[1;32m--> 860\u001b[1;33m         return self._input_request(str(prompt),\n\u001b[0m\u001b[0;32m    861\u001b[0m             \u001b[0mself\u001b[0m\u001b[1;33m.\u001b[0m\u001b[0m_parent_ident\u001b[0m\u001b[1;33m,\u001b[0m\u001b[1;33m\u001b[0m\u001b[1;33m\u001b[0m\u001b[0m\n\u001b[0;32m    862\u001b[0m             \u001b[0mself\u001b[0m\u001b[1;33m.\u001b[0m\u001b[0m_parent_header\u001b[0m\u001b[1;33m,\u001b[0m\u001b[1;33m\u001b[0m\u001b[1;33m\u001b[0m\u001b[0m\n",
      "\u001b[1;32m~\\.conda\\envs\\ImageProcessing\\lib\\site-packages\\ipykernel\\kernelbase.py\u001b[0m in \u001b[0;36m_input_request\u001b[1;34m(self, prompt, ident, parent, password)\u001b[0m\n\u001b[0;32m    902\u001b[0m             \u001b[1;32mexcept\u001b[0m \u001b[0mKeyboardInterrupt\u001b[0m\u001b[1;33m:\u001b[0m\u001b[1;33m\u001b[0m\u001b[1;33m\u001b[0m\u001b[0m\n\u001b[0;32m    903\u001b[0m                 \u001b[1;31m# re-raise KeyboardInterrupt, to truncate traceback\u001b[0m\u001b[1;33m\u001b[0m\u001b[1;33m\u001b[0m\u001b[1;33m\u001b[0m\u001b[0m\n\u001b[1;32m--> 904\u001b[1;33m                 \u001b[1;32mraise\u001b[0m \u001b[0mKeyboardInterrupt\u001b[0m\u001b[1;33m(\u001b[0m\u001b[1;34m\"Interrupted by user\"\u001b[0m\u001b[1;33m)\u001b[0m \u001b[1;32mfrom\u001b[0m \u001b[1;32mNone\u001b[0m\u001b[1;33m\u001b[0m\u001b[1;33m\u001b[0m\u001b[0m\n\u001b[0m\u001b[0;32m    905\u001b[0m             \u001b[1;32mexcept\u001b[0m \u001b[0mException\u001b[0m \u001b[1;32mas\u001b[0m \u001b[0me\u001b[0m\u001b[1;33m:\u001b[0m\u001b[1;33m\u001b[0m\u001b[1;33m\u001b[0m\u001b[0m\n\u001b[0;32m    906\u001b[0m                 \u001b[0mself\u001b[0m\u001b[1;33m.\u001b[0m\u001b[0mlog\u001b[0m\u001b[1;33m.\u001b[0m\u001b[0mwarning\u001b[0m\u001b[1;33m(\u001b[0m\u001b[1;34m\"Invalid Message:\"\u001b[0m\u001b[1;33m,\u001b[0m \u001b[0mexc_info\u001b[0m\u001b[1;33m=\u001b[0m\u001b[1;32mTrue\u001b[0m\u001b[1;33m)\u001b[0m\u001b[1;33m\u001b[0m\u001b[1;33m\u001b[0m\u001b[0m\n",
      "\u001b[1;31mKeyboardInterrupt\u001b[0m: Interrupted by user"
     ]
    }
   ],
   "source": [
    "condition = True\n",
    "start_ = []\n",
    "end_ = []\n",
    "name_ = []\n",
    "while (condition):\n",
    "    start = int(input(\"input start \"))\n",
    "    end = int(input(\"input end \"))\n",
    "    print(\"The text is:\",text[start:end])\n",
    "    ask_satisfied = input(\"Satisfied? (y/n)\")\n",
    "    if ask_satisfied == \"y\" or ask_satisfied == 'Y':\n",
    "        name = input('Display name: ')\n",
    "        name_.append(name)\n",
    "        start_.append(start)\n",
    "        end_.append(end)\n",
    "    elif ask_satisfied == \"n\" or ask_satisfied == 'N':\n",
    "        \"\"\"ask_exit = input(\"exit? (y/n)\")\n",
    "        if ask_exit == 'y':\n",
    "            condition = False\n",
    "            break\"\"\"\n",
    "        continue"
   ]
  },
  {
   "cell_type": "code",
   "execution_count": 106,
   "id": "25cbf2d5",
   "metadata": {},
   "outputs": [
    {
     "name": "stdout",
     "output_type": "stream",
     "text": [
      "2\n",
      "2\n"
     ]
    }
   ],
   "source": [
    "f.close()\n",
    "print(len(start_))\n",
    "print(len(end_))\n"
   ]
  },
  {
   "cell_type": "code",
   "execution_count": 103,
   "id": "d020fc44",
   "metadata": {},
   "outputs": [],
   "source": [
    "f.close()"
   ]
  },
  {
   "cell_type": "code",
   "execution_count": null,
   "id": "c0e48bdf",
   "metadata": {},
   "outputs": [],
   "source": [
    "start = "
   ]
  },
  {
   "cell_type": "code",
   "execution_count": 109,
   "id": "d40ac0d9",
   "metadata": {},
   "outputs": [],
   "source": [
    "txt = '{\"annotations\": [{\"text_extraction\": {\"text_segment\": {\"end_offset\": ' + str(end) + ',\"start_offset\": ' + str(start) + '}}, \"display_name\": ' + name + '}],\"text_snippet\": {}}'"
   ]
  },
  {
   "cell_type": "code",
   "execution_count": 136,
   "id": "03c320e8",
   "metadata": {},
   "outputs": [
    {
     "name": "stdout",
     "output_type": "stream",
     "text": [
      "{\"annotations\": [{\"text_extraction\": {\"text_segment\": {\"end_offset\": 1833,\"start_offset\": 1826}}, \"display_name\": \"math\"},{\"text_extraction\": {\"text_segment\": {\"end_offset\": 1860,\"start_offset\": 1843}}, \"display_name\": \"math\"}],\"text_snippet\": {\"content\": \"text\" }}\n"
     ]
    }
   ],
   "source": [
    "start_text = '{\"annotations\": ['\n",
    "end_text = '],\"text_snippet\": {\"content\": \"' + text + ' \" }}'\n",
    "tmp = ''\n",
    "for i in range(len(start_)):\n",
    "    start = start_[i]\n",
    "    end = end_[i]\n",
    "    name = 'math'\n",
    "    mid_txt = '{\"text_extraction\": {\"text_segment\": {\"end_offset\": ' + str(end) + ',\"start_offset\": ' + str(start) + '}}, \"display_name\": \"' + name + '\"}'\n",
    "    tmp += mid_txt\n",
    "    if i+1 < len(start_):\n",
    "        tmp += ','\n",
    "print(start_text + tmp + end_text)"
   ]
  },
  {
   "cell_type": "code",
   "execution_count": null,
   "id": "e683337a",
   "metadata": {},
   "outputs": [],
   "source": [
    "{\"annotations\": [{\"text_extraction\": {\"text_segment\": {\"end_offset\": 1833,\"start_offset\": 1826}}, \"display_name\": \"math\"}],\"text_snippet\": {}}\n",
    "{\"annotations\": [{\"text_extraction\": {\"text_segment\": {\"end_offset\": 1833,\"start_offset\": 1826}}, \"display_name\": \"math\"},{\"text_extraction\": {\"text_segment\": {\"end_offset\": 1860,\"start_offset\": 1843}}, \"display_name\": \"math\"}],\"text_snippet\": {}}"
   ]
  },
  {
   "cell_type": "markdown",
   "id": "4e9d7c23",
   "metadata": {},
   "source": [
    "# --------------------------------------------------------------"
   ]
  },
  {
   "cell_type": "code",
   "execution_count": 33,
   "id": "f5659e09",
   "metadata": {},
   "outputs": [],
   "source": [
    "line = ''"
   ]
  },
  {
   "cell_type": "code",
   "execution_count": 34,
   "id": "13b2719b",
   "metadata": {},
   "outputs": [
    {
     "name": "stdout",
     "output_type": "stream",
     "text": [
      "['Rapor MA 2 Cianjur 2-0.txt', 'Rapor MA 2 Cianjur 3-0.txt', 'Rapor MA 2 Cianjur 4-0.txt', 'Rapor MA 2 Cianjur 5-0.txt', 'Rapor MA 2 Cianjur-0.txt', 'Rapor SMA NEGERI 1 KOTAGAJAH 2-0.txt', 'Rapor SMA NEGERI 1 KOTAGAJAH 3-0.txt', 'Rapor SMA NEGERI 1 KOTAGAJAH 4-0.txt', 'Rapor SMA NEGERI 1 KOTAGAJAH 5-0.txt', 'Rapor SMA NEGERI 1 KOTAGAJAH-0.txt', 'Rapor SMAN 1 Cisaat 2-0.txt', 'Rapor SMAN 1 Cisaat 3-0.txt', 'Rapor SMAN 1 Cisaat 4-0.txt', 'Rapor SMAN 1 Cisaat 5-0.txt', 'Rapor SMAN 1 Cisaat-0.txt', 'Rapor SMK Farmasi Galenium 2-0.txt', 'Rapor SMK Farmasi Galenium 3-0.txt', 'Rapor SMK Farmasi Galenium 4-0.txt', 'Rapor SMK Farmasi Galenium 5-0.txt', 'Rapor SMK Farmasi Galenium-0.txt', 'SMAIT Al-Ittihad Pekanbaru 2-0.txt', 'SMAIT Al-Ittihad Pekanbaru 3-0.txt', 'SMAIT Al-Ittihad Pekanbaru 4-0.txt', 'SMAIT Al-Ittihad Pekanbaru 5-0.txt', 'SMAIT Al-Ittihad Pekanbaru-0.txt', 'SMKN 29 Jakarta 2-0.txt', 'SMKN 29 Jakarta 3-0.txt', 'SMKN 29 Jakarta 4-0.txt', 'SMKN 29 Jakarta 5-0.txt', 'SMKN 29 Jakarta-0.txt']\n"
     ]
    }
   ],
   "source": [
    "import os \n",
    "\n",
    "list_file = os.listdir(\"text\")\n",
    "print(list_file)"
   ]
  },
  {
   "cell_type": "code",
   "execution_count": 81,
   "id": "78490f4c",
   "metadata": {},
   "outputs": [],
   "source": [
    "i = 2"
   ]
  },
  {
   "cell_type": "markdown",
   "id": "d7e45ce9",
   "metadata": {},
   "source": [
    "# --------------------------------------------------------------"
   ]
  },
  {
   "cell_type": "code",
   "execution_count": 82,
   "id": "d1318b23",
   "metadata": {},
   "outputs": [
    {
     "name": "stdout",
     "output_type": "stream",
     "text": [
      "Rapor MA 2 Cianjur 5-0.txt\n"
     ]
    }
   ],
   "source": [
    "i += 1\n",
    "print(list_file[i])\n",
    "f = open(\"text/\" + list_file[0], \"r\")\n",
    "text = f.read()\n",
    "text = text.replace(\"\\n\", \" \")\n",
    "#print(text)"
   ]
  },
  {
   "cell_type": "code",
   "execution_count": 69,
   "id": "9df23b68",
   "metadata": {},
   "outputs": [
    {
     "name": "stdout",
     "output_type": "stream",
     "text": [
      "The text is: MA NEGERI 2 CIANJUR\n",
      "Satisfied? (y/n)y\n",
      "The text is: MA NEGERI 2 CIANJUR\n"
     ]
    },
    {
     "ename": "KeyboardInterrupt",
     "evalue": "Interrupted by user",
     "output_type": "error",
     "traceback": [
      "\u001b[1;31m---------------------------------------------------------------------------\u001b[0m",
      "\u001b[1;31mKeyboardInterrupt\u001b[0m                         Traceback (most recent call last)",
      "\u001b[1;32m<ipython-input-69-290fe30c4434>\u001b[0m in \u001b[0;36m<module>\u001b[1;34m\u001b[0m\n\u001b[0;32m      9\u001b[0m     \u001b[0mend\u001b[0m \u001b[1;33m=\u001b[0m \u001b[1;36m71\u001b[0m\u001b[1;33m\u001b[0m\u001b[1;33m\u001b[0m\u001b[0m\n\u001b[0;32m     10\u001b[0m     \u001b[0mprint\u001b[0m\u001b[1;33m(\u001b[0m\u001b[1;34m\"The text is:\"\u001b[0m\u001b[1;33m,\u001b[0m\u001b[0mtext\u001b[0m\u001b[1;33m[\u001b[0m\u001b[0mstart\u001b[0m\u001b[1;33m:\u001b[0m\u001b[0mend\u001b[0m\u001b[1;33m]\u001b[0m\u001b[1;33m)\u001b[0m\u001b[1;33m\u001b[0m\u001b[1;33m\u001b[0m\u001b[0m\n\u001b[1;32m---> 11\u001b[1;33m     \u001b[0mask_satisfied\u001b[0m \u001b[1;33m=\u001b[0m \u001b[0minput\u001b[0m\u001b[1;33m(\u001b[0m\u001b[1;34m\"Satisfied? (y/n)\"\u001b[0m\u001b[1;33m)\u001b[0m\u001b[1;33m\u001b[0m\u001b[1;33m\u001b[0m\u001b[0m\n\u001b[0m\u001b[0;32m     12\u001b[0m     \u001b[1;32mif\u001b[0m \u001b[0mask_satisfied\u001b[0m \u001b[1;33m==\u001b[0m \u001b[1;34m\"y\"\u001b[0m \u001b[1;32mor\u001b[0m \u001b[0mask_satisfied\u001b[0m \u001b[1;33m==\u001b[0m \u001b[1;34m'Y'\u001b[0m\u001b[1;33m:\u001b[0m\u001b[1;33m\u001b[0m\u001b[1;33m\u001b[0m\u001b[0m\n\u001b[0;32m     13\u001b[0m         \u001b[1;31m#name = input('Display name: ')\u001b[0m\u001b[1;33m\u001b[0m\u001b[1;33m\u001b[0m\u001b[1;33m\u001b[0m\u001b[0m\n",
      "\u001b[1;32m~\\.conda\\envs\\ImageProcessing\\lib\\site-packages\\ipykernel\\kernelbase.py\u001b[0m in \u001b[0;36mraw_input\u001b[1;34m(self, prompt)\u001b[0m\n\u001b[0;32m    858\u001b[0m                 \u001b[1;34m\"raw_input was called, but this frontend does not support input requests.\"\u001b[0m\u001b[1;33m\u001b[0m\u001b[1;33m\u001b[0m\u001b[0m\n\u001b[0;32m    859\u001b[0m             )\n\u001b[1;32m--> 860\u001b[1;33m         return self._input_request(str(prompt),\n\u001b[0m\u001b[0;32m    861\u001b[0m             \u001b[0mself\u001b[0m\u001b[1;33m.\u001b[0m\u001b[0m_parent_ident\u001b[0m\u001b[1;33m,\u001b[0m\u001b[1;33m\u001b[0m\u001b[1;33m\u001b[0m\u001b[0m\n\u001b[0;32m    862\u001b[0m             \u001b[0mself\u001b[0m\u001b[1;33m.\u001b[0m\u001b[0m_parent_header\u001b[0m\u001b[1;33m,\u001b[0m\u001b[1;33m\u001b[0m\u001b[1;33m\u001b[0m\u001b[0m\n",
      "\u001b[1;32m~\\.conda\\envs\\ImageProcessing\\lib\\site-packages\\ipykernel\\kernelbase.py\u001b[0m in \u001b[0;36m_input_request\u001b[1;34m(self, prompt, ident, parent, password)\u001b[0m\n\u001b[0;32m    902\u001b[0m             \u001b[1;32mexcept\u001b[0m \u001b[0mKeyboardInterrupt\u001b[0m\u001b[1;33m:\u001b[0m\u001b[1;33m\u001b[0m\u001b[1;33m\u001b[0m\u001b[0m\n\u001b[0;32m    903\u001b[0m                 \u001b[1;31m# re-raise KeyboardInterrupt, to truncate traceback\u001b[0m\u001b[1;33m\u001b[0m\u001b[1;33m\u001b[0m\u001b[1;33m\u001b[0m\u001b[0m\n\u001b[1;32m--> 904\u001b[1;33m                 \u001b[1;32mraise\u001b[0m \u001b[0mKeyboardInterrupt\u001b[0m\u001b[1;33m(\u001b[0m\u001b[1;34m\"Interrupted by user\"\u001b[0m\u001b[1;33m)\u001b[0m \u001b[1;32mfrom\u001b[0m \u001b[1;32mNone\u001b[0m\u001b[1;33m\u001b[0m\u001b[1;33m\u001b[0m\u001b[0m\n\u001b[0m\u001b[0;32m    905\u001b[0m             \u001b[1;32mexcept\u001b[0m \u001b[0mException\u001b[0m \u001b[1;32mas\u001b[0m \u001b[0me\u001b[0m\u001b[1;33m:\u001b[0m\u001b[1;33m\u001b[0m\u001b[1;33m\u001b[0m\u001b[0m\n\u001b[0;32m    906\u001b[0m                 \u001b[0mself\u001b[0m\u001b[1;33m.\u001b[0m\u001b[0mlog\u001b[0m\u001b[1;33m.\u001b[0m\u001b[0mwarning\u001b[0m\u001b[1;33m(\u001b[0m\u001b[1;34m\"Invalid Message:\"\u001b[0m\u001b[1;33m,\u001b[0m \u001b[0mexc_info\u001b[0m\u001b[1;33m=\u001b[0m\u001b[1;32mTrue\u001b[0m\u001b[1;33m)\u001b[0m\u001b[1;33m\u001b[0m\u001b[1;33m\u001b[0m\u001b[0m\n",
      "\u001b[1;31mKeyboardInterrupt\u001b[0m: Interrupted by user"
     ]
    }
   ],
   "source": [
    "condition = True\n",
    "start_ = []\n",
    "end_ = []\n",
    "name_ = []\n",
    "while (condition):\n",
    "    \"\"\"start = int(input(\"input start \"))\n",
    "    end = int(input(\"input end \"))\"\"\"\n",
    "    start = 52\n",
    "    end = 71\n",
    "    print(\"The text is:\",text[start:end])\n",
    "    ask_satisfied = input(\"Satisfied? (y/n)\")\n",
    "    if ask_satisfied == \"y\" or ask_satisfied == 'Y':\n",
    "        #name = input('Display name: ')\n",
    "        name = \"sekolah\"\n",
    "        name_.append(name)\n",
    "        start_.append(start)\n",
    "        end_.append(end)\n",
    "    elif ask_satisfied == \"n\" or ask_satisfied == 'N':\n",
    "        \"\"\"ask_exit = input(\"exit? (y/n)\")\n",
    "        if ask_exit == 'y':\n",
    "            condition = False\n",
    "            break\"\"\"\n",
    "        continue"
   ]
  },
  {
   "cell_type": "code",
   "execution_count": 70,
   "id": "c6fed59f",
   "metadata": {},
   "outputs": [
    {
     "name": "stdout",
     "output_type": "stream",
     "text": [
      "1\n",
      "1\n",
      "1\n"
     ]
    }
   ],
   "source": [
    "print(len(start_))\n",
    "print(len(end_))\n",
    "print(len(name_))"
   ]
  },
  {
   "cell_type": "code",
   "execution_count": 71,
   "id": "345f42d6",
   "metadata": {},
   "outputs": [],
   "source": [
    "#text[3547:3554]"
   ]
  },
  {
   "cell_type": "code",
   "execution_count": 72,
   "id": "b0c74753",
   "metadata": {},
   "outputs": [],
   "source": [
    "start_text = '{\"annotations\": ['\n",
    "end_text = '],\"text_snippet\": {\"content\": \"' + text + ' \" }}'\n",
    "tmp = ''\n",
    "for i in range(len(start_)):\n",
    "    start = start_[i]\n",
    "    end = end_[i]\n",
    "    name = name_[i]\n",
    "    mid_txt = '{\"text_extraction\": {\"text_segment\": {\"end_offset\": ' + str(end) + ',\"start_offset\": ' + str(start) + '}}, \"display_name\": \"' + name + '\"}'\n",
    "    tmp += mid_txt\n",
    "    if i+1 < len(start_):\n",
    "        tmp += ','\n",
    "tmp = start_text + tmp + end_text\n",
    "#print(tmp)"
   ]
  },
  {
   "cell_type": "code",
   "execution_count": 73,
   "id": "4e5320f6",
   "metadata": {},
   "outputs": [],
   "source": [
    "#tmp"
   ]
  },
  {
   "cell_type": "code",
   "execution_count": 74,
   "id": "f2695043",
   "metadata": {},
   "outputs": [],
   "source": [
    "line += tmp\n",
    "line += '\\n'\n",
    "#line"
   ]
  },
  {
   "cell_type": "code",
   "execution_count": 75,
   "id": "0b8ccc8a",
   "metadata": {},
   "outputs": [],
   "source": [
    "f = open(\"demofile.jsonl\", \"w\")\n",
    "f.write(line)\n",
    "f.close()"
   ]
  },
  {
   "cell_type": "code",
   "execution_count": null,
   "id": "d0317b92",
   "metadata": {},
   "outputs": [],
   "source": []
  }
 ],
 "metadata": {
  "kernelspec": {
   "display_name": "Python 3",
   "language": "python",
   "name": "python3"
  },
  "language_info": {
   "codemirror_mode": {
    "name": "ipython",
    "version": 3
   },
   "file_extension": ".py",
   "mimetype": "text/x-python",
   "name": "python",
   "nbconvert_exporter": "python",
   "pygments_lexer": "ipython3",
   "version": "3.8.8"
  }
 },
 "nbformat": 4,
 "nbformat_minor": 5
}
